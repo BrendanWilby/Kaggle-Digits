{
 "cells": [
  {
   "cell_type": "markdown",
   "metadata": {},
   "source": [
    "# Titanic Survival Prediction"
   ]
  },
  {
   "cell_type": "markdown",
   "metadata": {},
   "source": [
    "First import the necessary libaries:"
   ]
  },
  {
   "cell_type": "code",
   "execution_count": 1,
   "metadata": {},
   "outputs": [],
   "source": [
    "import matplotlib.pyplot as plt\n",
    "import numpy as np\n",
    "import pandas as pd\n",
    "from sklearn.model_selection import train_test_split\n",
    "from sklearn.ensemble import RandomForestClassifier\n",
    "from sklearn.metrics import roc_curve, auc, accuracy_score"
   ]
  },
  {
   "cell_type": "markdown",
   "metadata": {},
   "source": [
    "# Useful Functions"
   ]
  },
  {
   "cell_type": "markdown",
   "metadata": {},
   "source": [
    "A function to create dummy variables from \"column\" in dataframe \"df\". Appends the new columns to the end of the dataframe."
   ]
  },
  {
   "cell_type": "code",
   "execution_count": 2,
   "metadata": {},
   "outputs": [],
   "source": [
    "def create_dummy(df, column):\n",
    "    dummies = pd.get_dummies(df[column], prefix=column)\n",
    "    df = pd.concat([df, dummies], axis=1)\n",
    "    return df"
   ]
  },
  {
   "cell_type": "markdown",
   "metadata": {},
   "source": [
    "A function to compute and print roc_auc and accuracy scores using ground truths \"true\" and model predictions \"predictions\"."
   ]
  },
  {
   "cell_type": "code",
   "execution_count": 3,
   "metadata": {},
   "outputs": [],
   "source": [
    "def compute_scores(true, predictions, print_scores=True):\n",
    "    f_p_r, t_p_r, thresholds = roc_curve(true, predictions)\n",
    "    roc_auc = auc(f_p_r, t_p_r)\n",
    "    accuracy = accuracy_score(true, predictions)\n",
    "    \n",
    "    if print_scores:\n",
    "        print(\"ROC_AUC: %f\" %roc_auc)\n",
    "        print(\"Accuracy: %f\" %accuracy)\n",
    "        \n",
    "    return roc_auc, accuracy"
   ]
  },
  {
   "cell_type": "markdown",
   "metadata": {},
   "source": [
    "# Main Method"
   ]
  },
  {
   "cell_type": "markdown",
   "metadata": {},
   "source": [
    "Import the training data and submission test data"
   ]
  },
  {
   "cell_type": "code",
   "execution_count": 4,
   "metadata": {},
   "outputs": [],
   "source": [
    "#import data\n",
    "raw_train = pd.read_csv(\"../Kaggle/Datasets/Titanic/train.csv\")\n",
    "raw_submission = pd.read_csv(\"../Kaggle/Datasets/Titanic/test.csv\")"
   ]
  },
  {
   "cell_type": "markdown",
   "metadata": {},
   "source": [
    "Convert the \"Pclass\" column into dummy variables. That is, remove any possible relationships a model might assume between the values. This creates 3 new columns labelled \"Pclass_1\", \"Pclass_2\" and \"Pclass_3\".\n",
    "\n",
    "Then change the \"Sex\" column labels to integers by mapping any occurence of \"male\" to zero and any occurences of \"female\" to unity.\n",
    "\n",
    "Finally, convert any missing values in the \"Age\" column to zero."
   ]
  },
  {
   "cell_type": "code",
   "execution_count": 5,
   "metadata": {},
   "outputs": [],
   "source": [
    "#Clean and process data\n",
    "raw_train = create_dummy(raw_train, \"Pclass\")\n",
    "raw_submission = create_dummy(raw_submission, \"Pclass\")\n",
    "\n",
    "#convert sex string labels to binary\n",
    "for df in [raw_train, raw_submission]:\n",
    "    df[\"Sex_binary\"] = df[\"Sex\"].map({\"male\": 0, \"female\" : 1})\n",
    "\n",
    "#convert any NaNs to 0\n",
    "raw_train[\"Age\"] = raw_train[\"Age\"].fillna(0)\n",
    "raw_submission[\"Age\"] = raw_submission[\"Age\"].fillna(0)"
   ]
  },
  {
   "cell_type": "markdown",
   "metadata": {},
   "source": [
    "Choose the features for the model. For this initial test I use the Pclass dummy variables, age and new Sex_binary column. The variable to predict is \"Survived\" where 0 = died, 1 = survived."
   ]
  },
  {
   "cell_type": "code",
   "execution_count": 6,
   "metadata": {},
   "outputs": [],
   "source": [
    "#Feature selection\n",
    "features = [\"Pclass_1\", \"Pclass_2\", \"Pclass_3\", \"Age\", \"Sex_binary\"]\n",
    "target = \"Survived\""
   ]
  },
  {
   "cell_type": "markdown",
   "metadata": {},
   "source": [
    "Split the training data into a smaller training dataset (75%) and a test data set (25%) to train and test the model with. Setting random_state = 1 ensures reproducability so that these new datasets can be replicated later on."
   ]
  },
  {
   "cell_type": "code",
   "execution_count": 7,
   "metadata": {},
   "outputs": [],
   "source": [
    "#split the training data into a training set (75%) and test set (25%)\n",
    "x_train, x_test, y_train, y_test = train_test_split(raw_train[features], raw_train[target], test_size = 0.25, random_state=1)"
   ]
  },
  {
   "cell_type": "markdown",
   "metadata": {},
   "source": [
    "Now choose and fit a model. I initially chose a random forest classifier with default parameters and then tuned them to increase the score. Best results were found with max_depth = 3 and n_estimators = 20."
   ]
  },
  {
   "cell_type": "code",
   "execution_count": 8,
   "metadata": {},
   "outputs": [
    {
     "data": {
      "text/plain": [
       "RandomForestClassifier(bootstrap=True, class_weight=None, criterion='gini',\n",
       "            max_depth=3, max_features='auto', max_leaf_nodes=None,\n",
       "            min_impurity_decrease=0.0, min_impurity_split=None,\n",
       "            min_samples_leaf=1, min_samples_split=2,\n",
       "            min_weight_fraction_leaf=0.0, n_estimators=20, n_jobs=None,\n",
       "            oob_score=False, random_state=1, verbose=0, warm_start=False)"
      ]
     },
     "execution_count": 8,
     "metadata": {},
     "output_type": "execute_result"
    }
   ],
   "source": [
    "#Choose and fit a model\n",
    "model = RandomForestClassifier(max_depth = 3, n_estimators = 20, random_state = 1)\n",
    "model.fit(x_train, y_train)"
   ]
  },
  {
   "cell_type": "markdown",
   "metadata": {},
   "source": [
    "Make predictions using the training data and find the roc_auc and accuracy score."
   ]
  },
  {
   "cell_type": "code",
   "execution_count": 9,
   "metadata": {},
   "outputs": [
    {
     "name": "stdout",
     "output_type": "stream",
     "text": [
      "ROC_AUC: 0.768231\n",
      "Accuracy: 0.814371\n"
     ]
    },
    {
     "data": {
      "text/plain": [
       "(0.7682306442151423, 0.8143712574850299)"
      ]
     },
     "execution_count": 9,
     "metadata": {},
     "output_type": "execute_result"
    }
   ],
   "source": [
    "#test the training accuracy\n",
    "train_predicts = model.predict(x_train)\n",
    "compute_scores(y_train, train_predicts)"
   ]
  },
  {
   "cell_type": "markdown",
   "metadata": {},
   "source": [
    "Make predictions using the test data and find the roc_auc and accuracy score."
   ]
  },
  {
   "cell_type": "code",
   "execution_count": 10,
   "metadata": {},
   "outputs": [
    {
     "name": "stdout",
     "output_type": "stream",
     "text": [
      "ROC_AUC: 0.737171\n",
      "Accuracy: 0.766816\n"
     ]
    },
    {
     "data": {
      "text/plain": [
       "(0.7371710526315789, 0.7668161434977578)"
      ]
     },
     "execution_count": 10,
     "metadata": {},
     "output_type": "execute_result"
    }
   ],
   "source": [
    "#test the test accuracy\n",
    "test_predicts = model.predict(x_test)\n",
    "compute_scores(y_test, test_predicts)"
   ]
  },
  {
   "cell_type": "markdown",
   "metadata": {},
   "source": [
    "# Parameter Tuning"
   ]
  },
  {
   "cell_type": "markdown",
   "metadata": {},
   "source": [
    "As discussed earlier when choosing the model, best results were found with max_depth = 6 and n_estimators = 20."
   ]
  },
  {
   "cell_type": "markdown",
   "metadata": {},
   "source": [
    "# 1. Max Depth"
   ]
  },
  {
   "cell_type": "markdown",
   "metadata": {},
   "source": [
    "First, tune the max depth. To achieve this, the following code iterates through an array of depth values from 1->32 and for each value, trains and tests the model and outputs the scores. Lastly, it makes two plots showing the roc_auc and accuracy score for each depth value."
   ]
  },
  {
   "cell_type": "code",
   "execution_count": 27,
   "metadata": {},
   "outputs": [
    {
     "data": {
      "image/png": "[encoded data removed]",
      "text/plain": [
       "<Figure size 432x288 with 2 Axes>"
      ]
     },
     "metadata": {
      "needs_background": "light"
     },
     "output_type": "display_data"
    }
   ],
   "source": [
    "max_depths = np.linspace(1, 32, 32)\n",
    "train_rocs = []\n",
    "test_rocs = []\n",
    "train_accs = []\n",
    "test_accs = []\n",
    "\n",
    "for max_depth in max_depths:\n",
    "    #set n_estimators to the default value of 10 to avoid future warning errors\n",
    "    model = RandomForestClassifier(max_depth = max_depth, n_estimators = 10, random_state = 1)\n",
    "    model.fit(x_train, y_train)\n",
    "    \n",
    "    train_predicts = model.predict(x_train)\n",
    "    roc_auc, accuracy = compute_scores(y_train, train_predicts, print_scores = False)\n",
    "    train_rocs.append(roc_auc)\n",
    "    train_accs.append(accuracy)\n",
    "    \n",
    "    test_predicts = model.predict(x_test)\n",
    "    roc_auc, accuracy = compute_scores(y_test, test_predicts, print_scores = False)\n",
    "    test_rocs.append(roc_auc)\n",
    "    test_accs.append(accuracy)\n",
    "\n",
    "plt.subplot(2, 1, 1)\n",
    "plt.plot(max_depths, train_rocs, \"b-\")\n",
    "plt.plot(max_depths, test_rocs, \"r-\")\n",
    "plt.axis([1, len(max_depths), min(test_rocs) - 0.05, max(train_rocs) + 0.05])\n",
    "plt.xlabel(\"max_depth\")\n",
    "plt.ylabel(\"ROC_AUC\")\n",
    "\n",
    "plt.subplot(2, 1, 2)\n",
    "plt.plot(max_depths, train_accs, \"b-\")\n",
    "plt.plot(max_depths, test_accs, \"r-\")\n",
    "plt.axis([1, len(max_depths), min(test_accs) - 0.05, max(train_accs) + 0.05])\n",
    "plt.xlabel(\"max_depth\")\n",
    "plt.ylabel(\"Accuracy\")\n",
    "\n",
    "plt.show() "
   ]
  },
  {
   "cell_type": "markdown",
   "metadata": {},
   "source": [
    "The blue curves show the scores from the training data.\n",
    "The red curves show the scores from the test data.\n",
    "\n",
    "The model is clearly overfitting too much at higher max depths, so a suitable value for max_depth would be between 1->6 as between these values there is a smaller discrepancy between the scores."
   ]
  },
  {
   "cell_type": "markdown",
   "metadata": {},
   "source": [
    "# 2. N Estimators"
   ]
  },
  {
   "cell_type": "markdown",
   "metadata": {},
   "source": [
    "Next up is n_estimators. The method is exactly the same but this time we iterate over an array of n_estimator values."
   ]
  },
  {
   "cell_type": "code",
   "execution_count": 28,
   "metadata": {},
   "outputs": [
    {
     "data": {
      "image/png": "[encoded data removed]",
      "text/plain": [
       "<Figure size 432x288 with 2 Axes>"
      ]
     },
     "metadata": {
      "needs_background": "light"
     },
     "output_type": "display_data"
    }
   ],
   "source": [
    "estimators = [1, 10, 20, 30, 40, 50, 60, 70, 80, 90, 100]\n",
    "train_accs = []\n",
    "test_accs = []\n",
    "train_rocs = []\n",
    "test_rocs = []\n",
    "\n",
    "for n_estimators in estimators:\n",
    "    model = RandomForestClassifier(n_estimators = n_estimators, random_state = 1)\n",
    "    model.fit(x_train, y_train)\n",
    "    \n",
    "    train_predicts = model.predict(x_train)\n",
    "    roc_auc, accuracy = compute_scores(y_train, train_predicts, print_scores = False)\n",
    "    train_rocs.append(roc_auc)\n",
    "    train_accs.append(accuracy)\n",
    "    \n",
    "    test_predicts = model.predict(x_test)\n",
    "    roc_auc, accuracy = compute_scores(y_test, test_predicts, print_scores = False)\n",
    "    test_rocs.append(roc_auc)\n",
    "    test_accs.append(accuracy)\n",
    "    \n",
    "plt.subplot(2, 1, 1)\n",
    "plt.plot(estimators, train_rocs, \"b-\")\n",
    "plt.plot(estimators, test_rocs, \"r-\")\n",
    "plt.axis([1, max(estimators), min(test_rocs) - 0.05, max(train_rocs) + 0.05])\n",
    "plt.xlabel(\"n_estimators\")\n",
    "plt.ylabel(\"ROC_AUC\")\n",
    "\n",
    "plt.subplot(2, 1, 2)\n",
    "plt.plot(estimators, train_accs, \"b-\")\n",
    "plt.plot(estimators, test_accs, \"r-\")\n",
    "plt.axis([1, max(estimators), min(test_accs) - 0.05, max(train_accs) + 0.05])\n",
    "plt.xlabel(\"n_estimators\")\n",
    "plt.ylabel(\"Accuracy\")\n",
    "\n",
    "plt.show() \n",
    "    "
   ]
  },
  {
   "cell_type": "markdown",
   "metadata": {},
   "source": [
    "In this case, performance appears to drop after about n_estimators = 20. A good value to use would be between 10-20."
   ]
  }
 ],
 "metadata": {
  "kernelspec": {
   "display_name": "Python 3",
   "language": "python",
   "name": "python3"
  },
  "language_info": {
   "codemirror_mode": {
    "name": "ipython",
    "version": 3
   },
   "file_extension": ".py",
   "mimetype": "text/x-python",
   "name": "python",
   "nbconvert_exporter": "python",
   "pygments_lexer": "ipython3",
   "version": "3.7.1"
  }
 },
 "nbformat": 4,
 "nbformat_minor": 2
}
